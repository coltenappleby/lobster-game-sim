{
 "cells": [
  {
   "cell_type": "code",
   "execution_count": 34,
   "metadata": {},
   "outputs": [],
   "source": [
    "from random import randrange\n",
    "import matplotlib.pyplot as plt"
   ]
  },
  {
   "cell_type": "markdown",
   "metadata": {},
   "source": [
    "# Lobster games\n",
    "Given two dice try to score 100 points\n",
    "you need 20 points to get on to the board\n",
    "Roll a 1 your turn score goes to zero\n",
    "Roll Snake Eyes, your entire score goes to zero\n",
    "\n"
   ]
  },
  {
   "cell_type": "code",
   "execution_count": 35,
   "metadata": {},
   "outputs": [
    {
     "name": "stdout",
     "output_type": "stream",
     "text": [
      "4\n"
     ]
    }
   ],
   "source": [
    "\n",
    "\n",
    "def roll():\n",
    "    rollScore = 0\n",
    "    dice1 = randrange(1,6)\n",
    "    dice2 = randrange(1,6)\n",
    "    # print(dice1)\n",
    "    # print(dice2)\n",
    "    if dice1 == 1 or dice2 == 1:\n",
    "        return False\n",
    "    else:\n",
    "        rollScore = dice1 + dice2\n",
    "        return rollScore\n",
    "\n",
    "\n",
    "def turn():\n",
    "    turnScore = 0\n",
    "    rolls = 0\n",
    "    while(True):\n",
    "        rollScore = roll()\n",
    "        if rollScore == 0:\n",
    "            break\n",
    "        else:\n",
    "            rolls += 1\n",
    "            turnScore += rollScore\n",
    "    return {\"rolls\" : rolls, \"turnScore\" : turnScore}\n",
    "\n",
    "info = turn()\n",
    "print(info[\"rolls\"])\n",
    "# print(score)"
   ]
  },
  {
   "cell_type": "code",
   "execution_count": 41,
   "metadata": {},
   "outputs": [
    {
     "data": {
      "image/png": "[encoded data removed]",
      "text/plain": [
       "<Figure size 432x288 with 1 Axes>"
      ]
     },
     "metadata": {
      "needs_background": "light"
     },
     "output_type": "display_data"
    }
   ],
   "source": [
    "allRolls = []\n",
    "allScores = []\n",
    "\n",
    "for i in range(1,1000):\n",
    "    info = turn()\n",
    "    allRolls.append(info[\"rolls\"])\n",
    "    allScores.append(info[\"turnScore\"])\n",
    "    \n",
    "\n",
    "plt.scatter(allRolls, allScores)\n",
    "plt.show()"
   ]
  },
  {
   "cell_type": "markdown",
   "metadata": {},
   "source": [
    "Things to add:\n",
    "density line at the bottom\n",
    "clearer graphs\n",
    "trend lines\n"
   ]
  },
  {
   "cell_type": "code",
   "execution_count": 45,
   "metadata": {},
   "outputs": [
    {
     "name": "stdout",
     "output_type": "stream",
     "text": [
      "21\n",
      "145\n"
     ]
    }
   ],
   "source": [
    "print(max(allRolls))\n",
    "print(max(allScores))"
   ]
  },
  {
   "cell_type": "code",
   "execution_count": 80,
   "metadata": {},
   "outputs": [
    {
     "name": "stdout",
     "output_type": "stream",
     "text": [
      "[0.352, 0.209, 0.156, 0.108, 0.064, 0.04, 0.022, 0.019, 0.013, 0.008, 0.001, 0.002, 0.001, 0.0, 0.001, 0.001, 0.001, 0.0, 0.0, 0.0, 0.0, 0.001, 0.0, 0.0, 0.0, 0.0, 0.0, 0.0, 0.0, 0.0, 0.0, 0.0, 0.0, 0.0, 0.0, 0.0, 0.0, 0.0, 0.0, 0.0, 0.0, 0.0, 0.0, 0.0, 0.0, 0.0, 0.0, 0.0, 0.0, 0.0, 0.0, 0.0, 0.0, 0.0, 0.0, 0.0, 0.0, 0.0, 0.0, 0.0, 0.0, 0.0, 0.0, 0.0, 0.0, 0.0, 0.0, 0.0, 0.0, 0.0, 0.0, 0.0, 0.0, 0.0, 0.0, 0.0, 0.0, 0.0, 0.0, 0.0, 0.0, 0.0, 0.0, 0.0, 0.0, 0.0, 0.0, 0.0, 0.0, 0.0, 0.0, 0.0, 0.0, 0.0, 0.0, 0.0, 0.0, 0.0, 0.0, 0.0]\n",
      "[1, 2, 3, 4, 5, 6, 7, 8, 9, 10, 11, 12, 13, 14, 15, 16, 17, 18, 19, 20, 21, 22, 23, 24, 25, 26, 27, 28, 29, 30, 31, 32, 33, 34, 35, 36, 37, 38, 39, 40, 41, 42, 43, 44, 45, 46, 47, 48, 49, 50, 51, 52, 53, 54, 55, 56, 57, 58, 59, 60, 61, 62, 63, 64, 65, 66, 67, 68, 69, 70, 71, 72, 73, 74, 75, 76, 77, 78, 79, 80, 81, 82, 83, 84, 85, 86, 87, 88, 89, 90, 91, 92, 93, 94, 95, 96, 97, 98, 99, 100]\n"
     ]
    }
   ],
   "source": [
    "#### Creating a Density Chart #### Not pretty\n",
    "rollCount = [0] * 100\n",
    "for x in allRolls:\n",
    "    rollCount[x] += 1\n",
    "rollDensity = [x/1000 for x in rollsCount]\n",
    "print(rollDensity)\n",
    "rollCount1 = []\n",
    "for x in range(1,101):\n",
    "    rollCount1.append(x)\n",
    "print(rollCount1)\n"
   ]
  },
  {
   "cell_type": "code",
   "execution_count": 83,
   "metadata": {},
   "outputs": [
    {
     "data": {
      "image/png": "[encoded data removed]",
      "text/plain": [
       "<Figure size 432x288 with 1 Axes>"
      ]
     },
     "metadata": {
      "needs_background": "light"
     },
     "output_type": "display_data"
    }
   ],
   "source": [
    "fig, ax = plt.subplots()\n",
    "ax.scatter(allRolls, allScores)\n",
    "ax.plot(rollCount1, rollDensity, linewidth=2.0)\n",
    "plt.show()"
   ]
  }
 ],
 "metadata": {
  "interpreter": {
   "hash": "916dbcbb3f70747c44a77c7bcd40155683ae19c65e1c03b4aa3499c5328201f1"
  },
  "kernelspec": {
   "display_name": "Python 3.8.10 64-bit",
   "language": "python",
   "name": "python3"
  },
  "language_info": {
   "codemirror_mode": {
    "name": "ipython",
    "version": 3
   },
   "file_extension": ".py",
   "mimetype": "text/x-python",
   "name": "python",
   "nbconvert_exporter": "python",
   "pygments_lexer": "ipython3",
   "version": "3.8.10"
  },
  "orig_nbformat": 4
 },
 "nbformat": 4,
 "nbformat_minor": 2
}
