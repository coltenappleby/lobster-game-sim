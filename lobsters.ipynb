{
 "cells": [
  {
   "cell_type": "code",
   "execution_count": 34,
   "metadata": {},
   "outputs": [],
   "source": [
    "from random import randrange\n",
    "import matplotlib.pyplot as plt"
   ]
  },
  {
   "cell_type": "markdown",
   "metadata": {},
   "source": [
    "# Lobster games\n",
    "Given two dice try to score 100 points\n",
    "you need 20 points to get on to the board\n",
    "Roll a 1 your turn score goes to zero\n",
    "Roll Snake Eyes, your entire score goes to zero\n",
    "\n"
   ]
  },
  {
   "cell_type": "code",
   "execution_count": 35,
   "metadata": {},
   "outputs": [
    {
     "name": "stdout",
     "output_type": "stream",
     "text": [
      "4\n"
     ]
    }
   ],
   "source": [
    "\n",
    "\n",
    "def roll():\n",
    "    rollScore = 0\n",
    "    dice1 = randrange(1,6)\n",
    "    dice2 = randrange(1,6)\n",
    "    # print(dice1)\n",
    "    # print(dice2)\n",
    "    if dice1 == 1 or dice2 == 1:\n",
    "        return False\n",
    "    else:\n",
    "        rollScore = dice1 + dice2\n",
    "        return rollScore\n",
    "\n",
    "\n",
    "def turn():\n",
    "    turnScore = 0\n",
    "    rolls = 0\n",
    "    while(True):\n",
    "        rollScore = roll()\n",
    "        if rollScore == 0:\n",
    "            break\n",
    "        else:\n",
    "            rolls += 1\n",
    "            turnScore += rollScore\n",
    "    return {\"rolls\" : rolls, \"turnScore\" : turnScore}\n",
    "\n",
    "info = turn()\n",
    "print(info[\"rolls\"])\n",
    "# print(score)"
   ]
  },
  {
   "cell_type": "code",
   "execution_count": 38,
   "metadata": {},
   "outputs": [
    {
     "data": {
      "image/png": "[encoded data removed]",
      "text/plain": [
       "<Figure size 432x288 with 1 Axes>"
      ]
     },
     "metadata": {
      "needs_background": "light"
     },
     "output_type": "display_data"
    }
   ],
   "source": [
    "allRolls = []\n",
    "allScores = []\n",
    "\n",
    "for i in range(1,100):\n",
    "    info = turn()\n",
    "    allRolls.append(info[\"rolls\"])\n",
    "    allScores.append(info[\"turnScore\"])\n",
    "    \n",
    "\n",
    "plt.scatter(allRolls, allScores)\n",
    "plt.show()"
   ]
  },
  {
   "cell_type": "markdown",
   "metadata": {},
   "source": [
    "Things to add:\n",
    "density line at the bottom\n",
    "clearer graphs\n",
    "trend lines\n"
   ]
  },
  {
   "cell_type": "code",
   "execution_count": 40,
   "metadata": {},
   "outputs": [
    {
     "name": "stdout",
     "output_type": "stream",
     "text": [
      "['hello', 'world']\n",
      "5\n"
     ]
    }
   ],
   "source": []
  }
 ],
 "metadata": {
  "interpreter": {
   "hash": "916dbcbb3f70747c44a77c7bcd40155683ae19c65e1c03b4aa3499c5328201f1"
  },
  "kernelspec": {
   "display_name": "Python 3.8.10 64-bit",
   "language": "python",
   "name": "python3"
  },
  "language_info": {
   "codemirror_mode": {
    "name": "ipython",
    "version": 3
   },
   "file_extension": ".py",
   "mimetype": "text/x-python",
   "name": "python",
   "nbconvert_exporter": "python",
   "pygments_lexer": "ipython3",
   "version": "3.8.10"
  },
  "orig_nbformat": 4
 },
 "nbformat": 4,
 "nbformat_minor": 2
}
